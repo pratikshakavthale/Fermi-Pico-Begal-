{
 "cells": [
  {
   "cell_type": "markdown",
   "metadata": {
    "id": "_AwonLIluru2"
   },
   "source": [
    "# <center>Fermi, Pico, Bagels!</center> \n",
    "Create a number guessing game **Fermi, Pico, Bagels!** by strictly using integer operations! \n",
    "\n",
    "[Play Game!](https://communicrossings.com/html/js/pfb.htm)\n",
    "\n",
    "\n",
    "## Notebook Content :\n",
    "\n",
    "- **Lesson 1 :**\n",
    "  - Setting up the initial environment of the game.\n",
    "\n",
    "- **Lesson 2 :**\n",
    "  - Check for repetitive digits in the result_number.\n",
    "\n",
    "- **Lesson 3 :**\n",
    "  - Conditions for guess result to be Fermi, Pico & Bagels!.\n",
    "\n",
    "- **Lesson 4 :**\n",
    "  - Combine the complete codeflow in an infinte loop!\n",
    "\n",
    "\n",
    "## Rules :\n",
    "\n",
    "- **Repetitive digits** are not allowed.\n",
    "- **Fermi**, **Pico** & **Bagels** represent the guess results.\n",
    "    - **Fermi** : A correct digit placed correctly\n",
    "    - **Pico** : A correct digit placed incorrectly \n",
    "    - **Bagels** : No digits correct\n",
    "- **Winning Condition** : `result_number = guess number` : **Fermi , Fermi , Fermi!!**\n",
    "- **Losing Condition** : If maximum number of guesses reached and could not guess the result number!"
   ]
  },
  {
   "cell_type": "markdown",
   "metadata": {
    "id": "KWV7ySvd9LP2"
   },
   "source": [
    "## <center>Lesson 1</center>\n",
    "#### <center>Setting up the initial environment of the game</center>\n",
    "\n",
    "- Define variables that help us setup the initial environment of the game."
   ]
  },
  {
   "cell_type": "markdown",
   "metadata": {},
   "source": [
    "### <center>Step 1</center>\n",
    "- Define `digits` variable by taking input from user."
   ]
  },
  {
   "cell_type": "code",
   "execution_count": 1,
   "metadata": {},
   "outputs": [],
   "source": [
    "### your code here ###"
   ]
  },
  {
   "cell_type": "markdown",
   "metadata": {},
   "source": [
    "### <center>Step 2</center>\n",
    "- Define `guess_number_count = 0`.\n",
    "- Define `guess_number = 0` variable.\n",
    "- Define `guess_count` variable by taking input from user that decides the amount of guesses allowed."
   ]
  },
  {
   "cell_type": "code",
   "execution_count": 2,
   "metadata": {},
   "outputs": [],
   "source": [
    "### your code here ###"
   ]
  },
  {
   "cell_type": "markdown",
   "metadata": {},
   "source": [
    "### <center>Step 3</center>\n",
    "- Define `result_number` variable that is created by using `randint` from `random` module.\n",
    "- `randint` method should contain 2 mathematical expressions that make use of the `digit` variable to create `result_number`.\n",
    "\n",
    "    **Hint :** Execute `random.randint??` for understanding its syntax.\n",
    "    \n",
    "    **Hint :** result_number = random.randint( expression_1, expression_2)\n",
    "    \n",
    "    **Hint :** Expressions in random.randint have to something with **10** and `digits` variable.\n",
    "    \n",
    "    **Hint :** Table for finding logic for the expressions to be coded in `result_number = random.randint( expression_1, expression_2)`\n",
    "    \n",
    "|Digit| 1st Number of Digit | Last Number of Digit |\n",
    "|-----|---------------------|----------------------|\n",
    "|1|1|9|\n",
    "|2|10|99|\n",
    "|3|100|999|\n",
    "|4|1000|9999|\n",
    "|5|10000|99999|"
   ]
  },
  {
   "cell_type": "code",
   "execution_count": 3,
   "metadata": {
    "id": "zvYLpCxUun__"
   },
   "outputs": [],
   "source": [
    "### your code here ###"
   ]
  },
  {
   "cell_type": "markdown",
   "metadata": {},
   "source": [
    "## <center>Lesson 2</center>\n",
    "#### <center>Check for repetitive digits in the `result_number`</center>\n",
    "\n",
    "- Create a function that displays the number of repeitive digits as well as returns `True` if repetitive digits are present in the `result_number` else `False`."
   ]
  },
  {
   "cell_type": "markdown",
   "metadata": {},
   "source": [
    "### <center>Step 4</center>\n",
    "- Create a list of length 10 with all **0's** present inside it. Access the individual elements of the `result_number` and increment the **0** by 1 inside the list on the index position of the individual element.  \n",
    "    \n",
    "    **Hint :** Use different mathematical operations available to access individual digits. Check the table present at the start of **Expressions** chapter of **Basic Python** course.\n",
    "    \n",
    "    **Explanation :**\n",
    "\n",
    "```python\n",
    "list1 = [0, 0, 0, 0, 0, 0, 0, 0, 0, 0]\n",
    "index =  0, 1, 2, 3, 4, 5, 6, 7, 8, 9 \n",
    "\n",
    "result_number = 111\n",
    "list1 = [0, 3, 0, 0, 0, 0, 0, 0, 0, 0]\n",
    "```\n",
    "- Here `result_number` has 3 `1's`, hence we will increment the 0 present in index position `1` by 3 to find the frequency of the digits."
   ]
  },
  {
   "cell_type": "code",
   "execution_count": 4,
   "metadata": {},
   "outputs": [],
   "source": [
    "### your code here ###"
   ]
  },
  {
   "cell_type": "markdown",
   "metadata": {},
   "source": [
    "### <center>Step 5</center>\n",
    "- Create a variable `res` and iterate a loop over the list created in **Step 4** to find the count of the number of repetitive digits in `result_number`. If the count of any digit is greater than 1, increment `res` by 1 and display a message : **Number of Repetitve Digits :**. "
   ]
  },
  {
   "cell_type": "code",
   "execution_count": 5,
   "metadata": {},
   "outputs": [],
   "source": [
    "### your code here ### "
   ]
  },
  {
   "cell_type": "markdown",
   "metadata": {},
   "source": [
    "### <center>Step 6</center>\n",
    "- Create an `if - else` clause that checks the value of `res`. If it is greater than 0, display a message : **Repetitive Digits are present in the result number!** else display a message : **No Repetitive Digits found in the result number!**. "
   ]
  },
  {
   "cell_type": "code",
   "execution_count": 6,
   "metadata": {},
   "outputs": [],
   "source": [
    "### your code here ###"
   ]
  },
  {
   "cell_type": "markdown",
   "metadata": {},
   "source": [
    "### <center>Step 7</center>\n",
    "- Create a function with 2 arguements : `digits` and `result_number` that combines the code snippets of **Step 4**, **Step 5** and **Step 6**  that returns `True` if repetitive digits are present in the `result_number` else returns `False`.\n",
    "\n",
    "    **Example :**\n",
    "\n",
    "```python\n",
    "def repetitive_digits(digits, result_number):\n",
    "    ### your code here\n",
    "\n",
    "repetitive_digits(3,111) \n",
    ">>> Number of Repetitve Digits :  3\n",
    "Repetitive Digits are present in the result number!\n",
    "True\n",
    "\n",
    "repetitive_digits(3,123) \n",
    ">>> No Repetitive Digits found in the result number!\n",
    "False\n",
    "```"
   ]
  },
  {
   "cell_type": "code",
   "execution_count": 7,
   "metadata": {
    "colab": {
     "base_uri": "https://localhost:8080/"
    },
    "executionInfo": {
     "elapsed": 365,
     "status": "ok",
     "timestamp": 1632811294293,
     "user": {
      "displayName": "Tanmay Deshpande",
      "photoUrl": "https://lh3.googleusercontent.com/a-/AOh14Gi07vtjMQZ-vpyO76aeiRe_-QeVyip80_VRkTsv=s64",
      "userId": "10301011943892808194"
     },
     "user_tz": -330
    },
    "id": "g4eWc8UlS8aR",
    "outputId": "663dc45d-22ea-4797-cb0f-ad666251026f"
   },
   "outputs": [],
   "source": [
    "# Solution :"
   ]
  },
  {
   "cell_type": "markdown",
   "metadata": {
    "id": "XK2EFhlzeeUK"
   },
   "source": [
    "## <center>Lesson 3</center>\n",
    "#### <center>Conditions for guess result to be Fermi, Pico & Bagels!</center>\n",
    "\n",
    "- Create code logic for **Fermi**, **Pico** and **Bagels** based on the individual digits of `result_number` and `guess_number`. "
   ]
  },
  {
   "cell_type": "markdown",
   "metadata": {},
   "source": [
    "### <center>Step 8</center>\n",
    "- Create 2 lists of length `digits` with all **0's** present inside it, overwrite the `guess_number` variable by taking input from the user, 2 new variables that are assigned the values of `result_number` and `guess_number` and 3 counter variables `fermi = 0`, `pico = 0` and `bagels = 0`.  "
   ]
  },
  {
   "cell_type": "code",
   "execution_count": 8,
   "metadata": {},
   "outputs": [],
   "source": [
    "### your code here ###"
   ]
  },
  {
   "cell_type": "markdown",
   "metadata": {},
   "source": [
    "### <center>Step 9</center>\n",
    "- Create code logic that accesses the individual elements of the `result_number` and `guess_number`, stores them inside the lists created in **Step 8** in the same order when we read from left to right.\n",
    "\n",
    "    **Note :** Check **Step 4** for accessing individual elements.\n",
    "    \n",
    "    **Example :**\n",
    "    \n",
    "```python\n",
    "result_number = 123\n",
    "guess_number = 456\n",
    "\n",
    ">>> c1 = [1, 2, 3]\n",
    "c2 = [4, 5, 6]\n",
    "```"
   ]
  },
  {
   "cell_type": "code",
   "execution_count": 9,
   "metadata": {},
   "outputs": [],
   "source": [
    "### your code here ###"
   ]
  },
  {
   "cell_type": "markdown",
   "metadata": {},
   "source": [
    "### <center>Step 10</center>\n",
    "- Create a code logic using loop and `if` statement to check if the individual elements of `result_number` from it's list are present in the list of `guess_number`. If they are not present then increment the variable `bagels` variable by 1 from **Step 8**."
   ]
  },
  {
   "cell_type": "code",
   "execution_count": 10,
   "metadata": {},
   "outputs": [],
   "source": [
    "### your code here ###"
   ]
  },
  {
   "cell_type": "markdown",
   "metadata": {},
   "source": [
    "### <center>Step 11</center>\n",
    "- Create a code logic using `if` statement and nested loops to check for **Fermi** and **Pico** conditions. It should only check if the `bagels` variable is less than `digits`. If the `bagels` variable is less than 3 and if it satisfies the **Fermi** condition then increment the `fermi` variable by 1 else if it satisfies the **Pico** condition then increment the `pico` variable by 1. "
   ]
  },
  {
   "cell_type": "code",
   "execution_count": 11,
   "metadata": {},
   "outputs": [],
   "source": [
    "### your code here ###"
   ]
  },
  {
   "cell_type": "markdown",
   "metadata": {},
   "source": [
    "### <center>Step 12</center>\n",
    "- Create an `if - else` clause that displays the output of guess results as **Fermi** or **Pico** or **Bagels** depending on the values of the variables `fermi`, `pico` and `bagels`.\n",
    "\n",
    "    **Hint :** Use **String Replication** to display the output.\n",
    "    \n",
    "    **Example :** Output after every guess \n",
    "\n",
    "```python\n",
    "result_number = 123\n",
    "guess_number = 987\n",
    ">>>\n",
    "Guess Number : 987 \tResult :  Bagels\n",
    "        \n",
    "guess_number = 321\n",
    ">>>\n",
    "Guess Number : 321 \tResult :  Fermi Pico Pico\n",
    "        \n",
    "guess_number = 123\n",
    ">>>\n",
    "Guess Number : 123 \tResult :  Fermi Fermi Fermi\n",
    "```"
   ]
  },
  {
   "cell_type": "code",
   "execution_count": 12,
   "metadata": {},
   "outputs": [],
   "source": [
    "### your code here ###"
   ]
  },
  {
   "cell_type": "markdown",
   "metadata": {
    "id": "oxN8UBKT33mq"
   },
   "source": [
    "## <center>Lesson 4</center>\n",
    "#### <center>Combine the complete codeflow in an infinte loop!</center>\n",
    "\n",
    "- Combine the code snippets created in all the steps using an infinite loop and manage loops throughout. Increment `guess_number_count` variable after each guess, display the total number of guesses taken irrespective of the game is won or lost and display **GAME OVER** at the end. \n",
    "- The game should stop for following conditions :\n",
    "    - User is able to guess the `result_number` within the limits of `guess_count`. Display **You Win!** as well.\n",
    "    - User is not able to guess the `result_number` within the limits of `guess_count`. Display **You Lose!** as well.\n",
    "\n",
    "    **Note :** Define the `repetitive_digits` function outside the loop.\n",
    "\n",
    "    **Hint :** Use multiple nested loops and add `break` at necessary positions!\n",
    "\n",
    "    **Example :**\n",
    "\n",
    "```python\n",
    ">>> \n",
    "Enter the number of digits : 3\n",
    "Enter the maximum number of guesses allowed : 10\n",
    "No Repetitive Digits found in the result number!\n",
    "Enter Guess Number : 123\n",
    "Guess Number : 123 \tResult :  Bagels\n",
    "Enter Guess Number : 456\n",
    "Guess Number : 456 \tResult :   Pico Pico \n",
    "Enter Guess Number : 654\n",
    "Guess Number : 654 \tResult :   Pico Pico \n",
    "Enter Guess Number : 546\n",
    "Guess Number : 546 \tResult :  Fermi Fermi  \n",
    "Enter Guess Number : 645\n",
    "Guess Number : 645 \tResult :  Fermi  Pico \n",
    "Enter Guess Number : 641\n",
    "Guess Number : 641 \tResult :  Fermi  \n",
    "Enter Guess Number : 145\n",
    "Guess Number : 145 \tResult :  Fermi  Pico \n",
    "Enter Guess Number : 547\n",
    "Guess Number : 547 \tResult :  Fermi Fermi  \n",
    "Enter Guess Number : 548\n",
    "Guess Number : 548 \tResult :  Fermi Fermi  \n",
    "Enter Guess Number : 549\n",
    "Guess Number : 549 \tResult :  Fermi Fermi  \n",
    "Maximum Number of Guesses reached!\n",
    "Could not guess the Result Number!\n",
    "Result Number :  540\n",
    "You Lose!\n",
    "GAME OVER!\n",
    "\n",
    ">>> \n",
    "Enter the number of digits : 3\n",
    "Enter the maximum number of guesses allowed : 10\n",
    "No Repetitive Digits found in the result number!\n",
    "Enter Guess Number : 123\n",
    "Guess Number : 123 \tResult :   Pico \n",
    "Enter Guess Number : 132\n",
    "Guess Number : 132 \tResult :  Fermi  \n",
    "Enter Guess Number : 231\n",
    "Guess Number : 231 \tResult :   Pico \n",
    "Enter Guess Number : 452\n",
    "Guess Number : 452 \tResult :  Fermi  \n",
    "Enter Guess Number : 672\n",
    "Guess Number : 672 \tResult :  Fermi Fermi  \n",
    "Enter Guess Number : 472\n",
    "Guess Number : 472 \tResult :  Fermi  \n",
    "Enter Guess Number : 682\n",
    "Guess Number : 682 \tResult :  Fermi Fermi Fermi  \n",
    "Number of Guess Count Taken :  7\n",
    "Result Number : Guess Number :  682\n",
    "You Win!\n",
    "GAME OVER!\n",
    "```"
   ]
  },
  {
   "cell_type": "code",
   "execution_count": 13,
   "metadata": {},
   "outputs": [],
   "source": [
    "### your code here ###"
   ]
  },
  {
   "cell_type": "markdown",
   "metadata": {},
   "source": [
    "# <center>Happy Learning!</center>"
   ]
  }
 ],
 "metadata": {
  "colab": {
   "authorship_tag": "ABX9TyMHjVy6jaJuyju9XFjY18+y",
   "collapsed_sections": [
    "KWV7ySvd9LP2",
    "2asi1gyBS8aQ",
    "XK2EFhlzeeUK",
    "7miv3xVZJnTn"
   ],
   "name": "Pico_Fermi_Bagels_Solution.ipynb",
   "provenance": []
  },
  "kernelspec": {
   "display_name": "Python 3",
   "language": "python",
   "name": "python3"
  },
  "language_info": {
   "codemirror_mode": {
    "name": "ipython",
    "version": 3
   },
   "file_extension": ".py",
   "mimetype": "text/x-python",
   "name": "python",
   "nbconvert_exporter": "python",
   "pygments_lexer": "ipython3",
   "version": "3.7.6"
  }
 },
 "nbformat": 4,
 "nbformat_minor": 1
}
